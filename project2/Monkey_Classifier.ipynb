{
  "nbformat": 4,
  "nbformat_minor": 0,
  "metadata": {
    "colab": {
      "name": "Monkey Classifier.ipynb",
      "version": "0.3.2",
      "provenance": [],
      "toc_visible": true
    },
    "kernelspec": {
      "name": "python3",
      "display_name": "Python 3"
    },
    "accelerator": "GPU"
  },
  "cells": [
    {
      "metadata": {
        "id": "lifMm9cDJAsx",
        "colab_type": "text"
      },
      "cell_type": "markdown",
      "source": [
        "# Monkey Species Identifier"
      ]
    },
    {
      "metadata": {
        "id": "BPqh_1nMRX-2",
        "colab_type": "text"
      },
      "cell_type": "markdown",
      "source": [
        "## Initialization"
      ]
    },
    {
      "metadata": {
        "id": "72-I8MiJboXg",
        "colab_type": "text"
      },
      "cell_type": "markdown",
      "source": [
        "### Imports"
      ]
    },
    {
      "metadata": {
        "id": "rLflgz5m7Ksg",
        "colab_type": "code",
        "colab": {}
      },
      "cell_type": "code",
      "source": [
        "import numpy as np\n",
        "import joblib\n",
        "\n",
        "from google.colab import drive\n",
        "\n",
        "from sklearn.metrics import precision_recall_fscore_support"
      ],
      "execution_count": 0,
      "outputs": []
    },
    {
      "metadata": {
        "id": "kk_W0WsL_S6u",
        "colab_type": "code",
        "outputId": "0805f68d-996e-4b46-c1b8-5dbcd13e3273",
        "colab": {
          "base_uri": "https://localhost:8080/",
          "height": 35
        }
      },
      "cell_type": "code",
      "source": [
        "# Mount google drive\n",
        "drive.mount(\"drive\")"
      ],
      "execution_count": 0,
      "outputs": [
        {
          "output_type": "stream",
          "text": [
            "Drive already mounted at drive; to attempt to forcibly remount, call drive.mount(\"drive\", force_remount=True).\n"
          ],
          "name": "stdout"
        }
      ]
    },
    {
      "metadata": {
        "id": "4tPJGiocRUyY",
        "colab_type": "text"
      },
      "cell_type": "markdown",
      "source": [
        "### Load Dataset"
      ]
    },
    {
      "metadata": {
        "id": "evFTIgJD8UYO",
        "colab_type": "code",
        "colab": {}
      },
      "cell_type": "code",
      "source": [
        "DATASET_PATH = \"drive/My Drive/dataset/dataset_monkey.joblib\"\n",
        "X_train, Y_train = joblib.load(DATASET_PATH)\n",
        "\n",
        "DATASET_PATH = \"drive/My Drive/dataset/dataset_monkey_test.joblib\"\n",
        "X_test, Y_test = joblib.load(DATASET_PATH)"
      ],
      "execution_count": 0,
      "outputs": []
    },
    {
      "metadata": {
        "id": "003G2Hh7Re84",
        "colab_type": "text"
      },
      "cell_type": "markdown",
      "source": [
        "### Set variables"
      ]
    },
    {
      "metadata": {
        "id": "ovZnlYV2RQ39",
        "colab_type": "code",
        "colab": {}
      },
      "cell_type": "code",
      "source": [
        "HEIGHT = X_train.shape[1]\n",
        "WIDTH = X_train.shape[2]\n",
        "CHANNELS = X_train.shape[3]\n",
        "\n",
        "TRAIN_SAMPLES = X_train.shape[0]\n",
        "TEST_SAMPLES = X_test.shape[0]\n",
        "BATCH_SIZE = 32\n",
        "CLASSES = 10\n",
        "EPOCH_STEPS = int(TRAIN_SAMPLES / BATCH_SIZE)\n",
        "EPOCHS = 50\n",
        "\n",
        "NN_OUTPUT_HEIGHT = 7\n",
        "NN_OUTPUT_WIDTH = 7\n",
        "NN_OUTPUT_CHANNELS = 2048"
      ],
      "execution_count": 0,
      "outputs": []
    },
    {
      "metadata": {
        "id": "gxgH2looQ05h",
        "colab_type": "text"
      },
      "cell_type": "markdown",
      "source": [
        "## Feature Extraction - Xception Network"
      ]
    },
    {
      "metadata": {
        "id": "cpa2T4XcdoHy",
        "colab_type": "code",
        "outputId": "32766cd1-4646-4f32-9b10-d0b8e4dc73b0",
        "colab": {
          "base_uri": "https://localhost:8080/",
          "height": 35
        }
      },
      "cell_type": "code",
      "source": [
        "from keras.applications.xception import Xception"
      ],
      "execution_count": 0,
      "outputs": [
        {
          "output_type": "stream",
          "text": [
            "Using TensorFlow backend.\n"
          ],
          "name": "stderr"
        }
      ]
    },
    {
      "metadata": {
        "id": "dNF43bdRdpVM",
        "colab_type": "code",
        "colab": {}
      },
      "cell_type": "code",
      "source": [
        "nn_model = Xception(\n",
        "  weights=\"imagenet\",\n",
        "  input_shape=(HEIGHT, WIDTH, CHANNELS),\n",
        "  include_top=False\n",
        ")"
      ],
      "execution_count": 0,
      "outputs": []
    },
    {
      "metadata": {
        "id": "YmNyqGHwcDB6",
        "colab_type": "text"
      },
      "cell_type": "markdown",
      "source": [
        "### Training dataset"
      ]
    },
    {
      "metadata": {
        "id": "USnKmc7BDmo3",
        "colab_type": "code",
        "colab": {}
      },
      "cell_type": "code",
      "source": [
        "X_train_reduced = np.zeros((TRAIN_SAMPLES, NN_OUTPUT_HEIGHT, NN_OUTPUT_WIDTH, NN_OUTPUT_CHANNELS), dtype=np.float32)\n",
        "\n",
        "for i in range(TRAIN_SAMPLES):\n",
        "  X_train_reduced[i, :, :, :] = nn_model.predict(X_train[i:i+1, :, :, :])\n",
        "\n",
        "# Cleanup memory\n",
        "del X_train\n",
        "  \n",
        "X_train = np.reshape(X_train_reduced, (TRAIN_SAMPLES, 7 * 7 * 2048))"
      ],
      "execution_count": 0,
      "outputs": []
    },
    {
      "metadata": {
        "id": "3rk368A7SC4e",
        "colab_type": "text"
      },
      "cell_type": "markdown",
      "source": [
        "### Test dataset"
      ]
    },
    {
      "metadata": {
        "id": "RVwOL05ZSIOH",
        "colab_type": "code",
        "colab": {}
      },
      "cell_type": "code",
      "source": [
        "X_test_reduced = np.zeros((TEST_SAMPLES, NN_OUTPUT_HEIGHT, NN_OUTPUT_WIDTH, NN_OUTPUT_CHANNELS), dtype=np.float32)\n",
        "\n",
        "for i in range(TEST_SAMPLES):\n",
        "  X_test_reduced[i, :, :, :] = nn_model.predict(X_test[i:i+1, :, :, :])\n",
        "\n",
        "# Cleanup memory\n",
        "del X_test\n",
        "  \n",
        "X_test = np.reshape(X_test_reduced, (TEST_SAMPLES, 7 * 7 * 2048))"
      ],
      "execution_count": 0,
      "outputs": []
    },
    {
      "metadata": {
        "id": "u_V1GuQRb-47",
        "colab_type": "text"
      },
      "cell_type": "markdown",
      "source": [
        "## Feature Extraction -  PCA"
      ]
    },
    {
      "metadata": {
        "id": "V8DVkJ9WcJDd",
        "colab_type": "code",
        "colab": {}
      },
      "cell_type": "code",
      "source": [
        "from sklearn.decomposition import PCA"
      ],
      "execution_count": 0,
      "outputs": []
    },
    {
      "metadata": {
        "id": "ghskB4dkcVhh",
        "colab_type": "code",
        "colab": {}
      },
      "cell_type": "code",
      "source": [
        "pca = PCA(n_components=3291)"
      ],
      "execution_count": 0,
      "outputs": []
    },
    {
      "metadata": {
        "id": "Up1GyHUJe-Sr",
        "colab_type": "text"
      },
      "cell_type": "markdown",
      "source": [
        "### Training dataset"
      ]
    },
    {
      "metadata": {
        "id": "_aoSH9P0cWs7",
        "colab_type": "code",
        "colab": {}
      },
      "cell_type": "code",
      "source": [
        "X_train = pca.fit_transform(X_train.reshape(TRAIN_SAMPLES, HEIGHT*WIDTH*CHANNELS))"
      ],
      "execution_count": 0,
      "outputs": []
    },
    {
      "metadata": {
        "id": "AW0stCEPfACF",
        "colab_type": "text"
      },
      "cell_type": "markdown",
      "source": [
        "### Test dataset"
      ]
    },
    {
      "metadata": {
        "id": "6xTeT1C5e8BV",
        "colab_type": "code",
        "colab": {}
      },
      "cell_type": "code",
      "source": [
        "X_test = pca.transform(X_test.reshape(TEST_SAMPLES, HEIGHT*WIDTH*CHANNELS))"
      ],
      "execution_count": 0,
      "outputs": []
    },
    {
      "metadata": {
        "id": "atAzQEWwSicp",
        "colab_type": "text"
      },
      "cell_type": "markdown",
      "source": [
        "# Classification - Neural Network"
      ]
    },
    {
      "metadata": {
        "id": "C4X0ffUfcsqe",
        "colab_type": "text"
      },
      "cell_type": "markdown",
      "source": [
        "### Model"
      ]
    },
    {
      "metadata": {
        "id": "64gNALRcdg8-",
        "colab_type": "code",
        "colab": {}
      },
      "cell_type": "code",
      "source": [
        "from keras.models import Sequential\n",
        "from keras.layers import Dense, Activation, Dropout"
      ],
      "execution_count": 0,
      "outputs": []
    },
    {
      "metadata": {
        "id": "YRXCh4xvkd64",
        "colab_type": "code",
        "colab": {}
      },
      "cell_type": "code",
      "source": [
        "model = Sequential()\n",
        "model.add(Dense(512, activation='relu', input_dim=7*7*2048))\n",
        "model.add(Dropout(0.5))\n",
        "model.add(Dense(10, activation='softmax'))\n",
        "model.compile(optimizer='adam',\n",
        "              loss='categorical_crossentropy',\n",
        "              metrics=['acc'])"
      ],
      "execution_count": 0,
      "outputs": []
    },
    {
      "metadata": {
        "id": "XIopw0WySmbc",
        "colab_type": "text"
      },
      "cell_type": "markdown",
      "source": [
        "### Training"
      ]
    },
    {
      "metadata": {
        "id": "wHrHMrLEpF0Y",
        "colab_type": "code",
        "outputId": "6935ec81-bb2e-42d6-d1e8-1ccc016657aa",
        "colab": {
          "base_uri": "https://localhost:8080/",
          "height": 923
        }
      },
      "cell_type": "code",
      "source": [
        "history = model.fit(\n",
        "  X_train, \n",
        "  Y_train, \n",
        "  epochs=25,\n",
        "  batch_size=BATCH_SIZE,\n",
        "  shuffle=True\n",
        ")"
      ],
      "execution_count": 0,
      "outputs": [
        {
          "output_type": "stream",
          "text": [
            "Epoch 1/25\n",
            "3291/3291 [==============================] - 10s 3ms/step - loss: 5.7168 - acc: 0.6278\n",
            "Epoch 2/25\n",
            "3291/3291 [==============================] - 8s 2ms/step - loss: 3.4314 - acc: 0.7818\n",
            "Epoch 3/25\n",
            "3291/3291 [==============================] - 8s 2ms/step - loss: 2.7281 - acc: 0.8265\n",
            "Epoch 4/25\n",
            "3291/3291 [==============================] - 8s 2ms/step - loss: 2.5126 - acc: 0.8411\n",
            "Epoch 5/25\n",
            "3291/3291 [==============================] - 8s 2ms/step - loss: 2.6263 - acc: 0.8335\n",
            "Epoch 6/25\n",
            "3291/3291 [==============================] - 8s 2ms/step - loss: 2.2764 - acc: 0.8560\n",
            "Epoch 7/25\n",
            "3291/3291 [==============================] - 8s 2ms/step - loss: 2.2381 - acc: 0.8590\n",
            "Epoch 8/25\n",
            "3291/3291 [==============================] - 8s 2ms/step - loss: 2.3695 - acc: 0.8511\n",
            "Epoch 9/25\n",
            "3291/3291 [==============================] - 8s 2ms/step - loss: 2.3947 - acc: 0.8487\n",
            "Epoch 10/25\n",
            "3291/3291 [==============================] - 8s 2ms/step - loss: 2.3749 - acc: 0.8508\n",
            "Epoch 11/25\n",
            "3291/3291 [==============================] - 8s 2ms/step - loss: 2.3725 - acc: 0.8511\n",
            "Epoch 12/25\n",
            "3291/3291 [==============================] - 8s 2ms/step - loss: 2.4552 - acc: 0.8466\n",
            "Epoch 13/25\n",
            "3291/3291 [==============================] - 8s 2ms/step - loss: 2.0651 - acc: 0.8712\n",
            "Epoch 14/25\n",
            "3291/3291 [==============================] - 8s 2ms/step - loss: 2.2479 - acc: 0.8596\n",
            "Epoch 15/25\n",
            "3291/3291 [==============================] - 8s 2ms/step - loss: 2.2197 - acc: 0.8611\n",
            "Epoch 16/25\n",
            "3291/3291 [==============================] - 8s 2ms/step - loss: 2.4976 - acc: 0.8438\n",
            "Epoch 17/25\n",
            "3291/3291 [==============================] - 8s 2ms/step - loss: 2.4520 - acc: 0.8472\n",
            "Epoch 18/25\n",
            "3291/3291 [==============================] - 8s 2ms/step - loss: 2.5068 - acc: 0.8435\n",
            "Epoch 19/25\n",
            "3291/3291 [==============================] - 8s 2ms/step - loss: 2.3505 - acc: 0.8532\n",
            "Epoch 20/25\n",
            "3291/3291 [==============================] - 8s 2ms/step - loss: 2.1711 - acc: 0.8651\n",
            "Epoch 21/25\n",
            "3291/3291 [==============================] - 8s 2ms/step - loss: 1.9320 - acc: 0.8794\n",
            "Epoch 22/25\n",
            "3291/3291 [==============================] - 8s 2ms/step - loss: 2.0995 - acc: 0.8684\n",
            "Epoch 23/25\n",
            "3291/3291 [==============================] - 8s 2ms/step - loss: 2.0075 - acc: 0.8754\n",
            "Epoch 24/25\n",
            "3291/3291 [==============================] - 8s 2ms/step - loss: 2.4315 - acc: 0.8481\n",
            "Epoch 25/25\n",
            "3291/3291 [==============================] - 8s 2ms/step - loss: 2.1653 - acc: 0.8645\n"
          ],
          "name": "stdout"
        }
      ]
    },
    {
      "metadata": {
        "id": "klu1qVAzIAUG",
        "colab_type": "code",
        "colab": {}
      },
      "cell_type": "code",
      "source": [
        "# Predict values\n",
        "Y_pred = model.predict(X_test)\n",
        "\n",
        "# Convert predicted values to labels\n",
        "Y_pred_labels = [x.argmax() for x in Y_pred]\n",
        "Y_test_labels = [x.argmax() for x in Y_test]"
      ],
      "execution_count": 0,
      "outputs": []
    },
    {
      "metadata": {
        "id": "QWt30-u6Kt1t",
        "colab_type": "code",
        "outputId": "bb91e9f0-98ec-46e9-ecac-705fc6781c02",
        "colab": {
          "base_uri": "https://localhost:8080/",
          "height": 89
        }
      },
      "cell_type": "code",
      "source": [
        "print(precision_recall_fscore_support(Y_test_labels, Y_pred_labels))"
      ],
      "execution_count": 0,
      "outputs": [
        {
          "output_type": "stream",
          "text": [
            "(array([0.875     , 0.94318182, 0.9625    , 0.94736842, 0.92682927,\n",
            "       0.98823529, 1.        , 0.61029412, 0.83333333, 0.975     ]), array([0.98717949, 0.98809524, 0.95061728, 1.        , 0.97435897,\n",
            "       1.        , 0.97435897, 0.98809524, 0.0617284 , 1.        ]), array([0.92771084, 0.96511628, 0.95652174, 0.97297297, 0.95      ,\n",
            "       0.99408284, 0.98701299, 0.75454545, 0.11494253, 0.98734177]), array([78, 84, 81, 90, 78, 84, 78, 84, 81, 78]))\n"
          ],
          "name": "stdout"
        }
      ]
    },
    {
      "metadata": {
        "id": "6gKkI6LEcfeR",
        "colab_type": "text"
      },
      "cell_type": "markdown",
      "source": [
        "# Classification - Support Vector Machine"
      ]
    },
    {
      "metadata": {
        "id": "xJyf3bw2c7u7",
        "colab_type": "text"
      },
      "cell_type": "markdown",
      "source": [
        "### Model"
      ]
    },
    {
      "metadata": {
        "id": "2_Pp4FUMdxtM",
        "colab_type": "code",
        "colab": {}
      },
      "cell_type": "code",
      "source": [
        "from sklearn.svm import SVC"
      ],
      "execution_count": 0,
      "outputs": []
    },
    {
      "metadata": {
        "id": "t0KKEm2zcshx",
        "colab_type": "code",
        "colab": {}
      },
      "cell_type": "code",
      "source": [
        "model = SVC(C=10.0)"
      ],
      "execution_count": 0,
      "outputs": []
    },
    {
      "metadata": {
        "id": "j6SHgxlcnXCc",
        "colab_type": "code",
        "colab": {}
      },
      "cell_type": "code",
      "source": [
        "# Convert on hot encoding to labels\n",
        "Y_train_labels = [x.argmax() for x in Y_train]"
      ],
      "execution_count": 0,
      "outputs": []
    },
    {
      "metadata": {
        "id": "1tfhQK4WdKm6",
        "colab_type": "text"
      },
      "cell_type": "markdown",
      "source": [
        "### Training"
      ]
    },
    {
      "metadata": {
        "id": "2tlL-jgJltKE",
        "colab_type": "code",
        "outputId": "f709fdd6-173a-4c0a-80ec-09b563b77d4e",
        "colab": {
          "base_uri": "https://localhost:8080/",
          "height": 89
        }
      },
      "cell_type": "code",
      "source": [
        "model.fit(X_train, Y_train_labels)"
      ],
      "execution_count": 0,
      "outputs": [
        {
          "output_type": "execute_result",
          "data": {
            "text/plain": [
              "SVC(C=10.0, cache_size=200, class_weight=None, coef0=0.0,\n",
              "  decision_function_shape='ovr', degree=3, gamma='auto', kernel='rbf',\n",
              "  max_iter=-1, probability=False, random_state=None, shrinking=True,\n",
              "  tol=0.001, verbose=False)"
            ]
          },
          "metadata": {
            "tags": []
          },
          "execution_count": 11
        }
      ]
    },
    {
      "metadata": {
        "id": "0nd3ZE8wl70r",
        "colab_type": "code",
        "colab": {}
      },
      "cell_type": "code",
      "source": [
        "# Predict values\n",
        "Y_pred_labels = model.predict(X_test)\n",
        "\n",
        "# Convert test one hot encoding to labels\n",
        "Y_test_labels = [x.argmax() for x in Y_test]"
      ],
      "execution_count": 0,
      "outputs": []
    },
    {
      "metadata": {
        "id": "BEEouNYUql0J",
        "colab_type": "code",
        "outputId": "36ef4acf-a489-483e-fb3e-f3c2b8d8c3d0",
        "colab": {
          "base_uri": "https://localhost:8080/",
          "height": 89
        }
      },
      "cell_type": "code",
      "source": [
        "print(precision_recall_fscore_support(Y_test_labels, Y_pred_labels))"
      ],
      "execution_count": 0,
      "outputs": [
        {
          "output_type": "stream",
          "text": [
            "(array([1.        , 1.        , 1.        , 1.        , 1.        ,\n",
            "       1.        , 0.97402597, 0.95454545, 0.96385542, 0.98734177]), array([0.98717949, 1.        , 0.96296296, 0.97777778, 1.        ,\n",
            "       1.        , 0.96153846, 1.        , 0.98765432, 1.        ]), array([0.99354839, 1.        , 0.98113208, 0.98876404, 1.        ,\n",
            "       1.        , 0.96774194, 0.97674419, 0.97560976, 0.99363057]), array([78, 84, 81, 90, 78, 84, 78, 84, 81, 78]))\n"
          ],
          "name": "stdout"
        }
      ]
    }
  ]
}