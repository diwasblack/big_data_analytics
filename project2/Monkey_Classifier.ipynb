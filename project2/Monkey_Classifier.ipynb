{
  "nbformat": 4,
  "nbformat_minor": 0,
  "metadata": {
    "colab": {
      "name": "Monkey Classifier.ipynb",
      "version": "0.3.2",
      "provenance": [],
      "toc_visible": true
    },
    "kernelspec": {
      "name": "python3",
      "display_name": "Python 3"
    },
    "accelerator": "GPU"
  },
  "cells": [
    {
      "metadata": {
        "id": "lifMm9cDJAsx",
        "colab_type": "text"
      },
      "cell_type": "markdown",
      "source": [
        "# Monkey Species Identifier"
      ]
    },
    {
      "metadata": {
        "id": "BPqh_1nMRX-2",
        "colab_type": "text"
      },
      "cell_type": "markdown",
      "source": [
        "**Initialization**"
      ]
    },
    {
      "metadata": {
        "id": "rLflgz5m7Ksg",
        "colab_type": "code",
        "colab": {
          "base_uri": "https://localhost:8080/",
          "height": 35
        },
        "outputId": "226b078a-6a49-4c54-f298-89efa6d4c02a"
      },
      "cell_type": "code",
      "source": [
        "import numpy as np\n",
        "import joblib\n",
        "\n",
        "import matplotlib.pyplot as plt\n",
        "\n",
        "from keras.preprocessing.image import ImageDataGenerator\n",
        "from keras.models import Sequential\n",
        "from keras.layers import Dense, Activation, Dropout\n",
        "from keras.applications.xception import Xception\n",
        "from google.colab import drive\n",
        "\n",
        "from sklearn.metrics import precision_recall_fscore_support"
      ],
      "execution_count": 1,
      "outputs": [
        {
          "output_type": "stream",
          "text": [
            "Using TensorFlow backend.\n"
          ],
          "name": "stderr"
        }
      ]
    },
    {
      "metadata": {
        "id": "kk_W0WsL_S6u",
        "colab_type": "code",
        "colab": {
          "base_uri": "https://localhost:8080/",
          "height": 128
        },
        "outputId": "ee458d39-e06d-4e83-e74b-a3f1e422be60"
      },
      "cell_type": "code",
      "source": [
        "# Mount google drive\n",
        "drive.mount(\"drive\")"
      ],
      "execution_count": 2,
      "outputs": [
        {
          "output_type": "stream",
          "text": [
            "Go to this URL in a browser: https://accounts.google.com/o/oauth2/auth?client_id=947318989803-6bn6qk8qdgf4n4g3pfee6491hc0brc4i.apps.googleusercontent.com&redirect_uri=urn%3Aietf%3Awg%3Aoauth%3A2.0%3Aoob&scope=email%20https%3A%2F%2Fwww.googleapis.com%2Fauth%2Fdocs.test%20https%3A%2F%2Fwww.googleapis.com%2Fauth%2Fdrive%20https%3A%2F%2Fwww.googleapis.com%2Fauth%2Fdrive.photos.readonly%20https%3A%2F%2Fwww.googleapis.com%2Fauth%2Fpeopleapi.readonly&response_type=code\n",
            "\n",
            "Enter your authorization code:\n",
            "··········\n",
            "Mounted at drive\n"
          ],
          "name": "stdout"
        }
      ]
    },
    {
      "metadata": {
        "id": "4tPJGiocRUyY",
        "colab_type": "text"
      },
      "cell_type": "markdown",
      "source": [
        "**Load Dataset**"
      ]
    },
    {
      "metadata": {
        "id": "evFTIgJD8UYO",
        "colab_type": "code",
        "colab": {}
      },
      "cell_type": "code",
      "source": [
        "DATASET_PATH = \"drive/My Drive/dataset/dataset_monkey.joblib\"\n",
        "X_train, Y_train = joblib.load(DATASET_PATH)\n",
        "\n",
        "DATASET_PATH = \"drive/My Drive/dataset/dataset_monkey_test.joblib\"\n",
        "X_test, Y_test = joblib.load(DATASET_PATH)"
      ],
      "execution_count": 0,
      "outputs": []
    },
    {
      "metadata": {
        "id": "RoPr14TRwxk8",
        "colab_type": "code",
        "colab": {
          "base_uri": "https://localhost:8080/",
          "height": 35
        },
        "outputId": "be664ea4-9e33-4655-a8fe-d74c91da537f"
      },
      "cell_type": "code",
      "source": [
        "X_test.shape[0]"
      ],
      "execution_count": 4,
      "outputs": [
        {
          "output_type": "execute_result",
          "data": {
            "text/plain": [
              "816"
            ]
          },
          "metadata": {
            "tags": []
          },
          "execution_count": 4
        }
      ]
    },
    {
      "metadata": {
        "id": "003G2Hh7Re84",
        "colab_type": "text"
      },
      "cell_type": "markdown",
      "source": [
        "**Set variables**"
      ]
    },
    {
      "metadata": {
        "id": "ovZnlYV2RQ39",
        "colab_type": "code",
        "colab": {}
      },
      "cell_type": "code",
      "source": [
        "HEIGHT = X_train.shape[1]\n",
        "WIDTH = X_train.shape[2]\n",
        "CHANNELS = X_train.shape[3]\n",
        "\n",
        "TRAIN_SAMPLES = X_train.shape[0]\n",
        "TEST_SAMPLES = X_test.shape[0]\n",
        "BATCH_SIZE = 32\n",
        "CLASSES = 10\n",
        "EPOCH_STEPS = int(TRAIN_SAMPLES / BATCH_SIZE)\n",
        "EPOCHS = 50\n",
        "\n",
        "NN_OUTPUT_HEIGHT = 7\n",
        "NN_OUTPUT_WIDTH = 7\n",
        "NN_OUTPUT_CHANNELS = 2048"
      ],
      "execution_count": 0,
      "outputs": []
    },
    {
      "metadata": {
        "id": "-jnWcU_BCe2D",
        "colab_type": "code",
        "colab": {}
      },
      "cell_type": "code",
      "source": [
        "nn_model = Xception(\n",
        "  weights=\"imagenet\",\n",
        "  input_shape=(HEIGHT, WIDTH, CHANNELS),\n",
        "  include_top=False\n",
        ")"
      ],
      "execution_count": 0,
      "outputs": []
    },
    {
      "metadata": {
        "id": "gxgH2looQ05h",
        "colab_type": "text"
      },
      "cell_type": "markdown",
      "source": [
        "**Extract Features for training dataset**"
      ]
    },
    {
      "metadata": {
        "id": "USnKmc7BDmo3",
        "colab_type": "code",
        "colab": {}
      },
      "cell_type": "code",
      "source": [
        "X_train_reduced = np.zeros((TRAIN_SAMPLES, NN_OUTPUT_HEIGHT, NN_OUTPUT_WIDTH, NN_OUTPUT_CHANNELS), dtype=np.float32)\n",
        "\n",
        "for i in range(TRAIN_SAMPLES):\n",
        "  X_train_reduced[i, :, :, :] = nn_model.predict(X_train[i:i+1, :, :, :])\n",
        "\n",
        "# Cleanup memory\n",
        "del X_train\n",
        "  \n",
        "X_train = np.reshape(X_train_reduced, (TRAIN_SAMPLES, 7 * 7 * 2048))"
      ],
      "execution_count": 0,
      "outputs": []
    },
    {
      "metadata": {
        "id": "3rk368A7SC4e",
        "colab_type": "text"
      },
      "cell_type": "markdown",
      "source": [
        "**Extract features for test dataset**"
      ]
    },
    {
      "metadata": {
        "id": "RVwOL05ZSIOH",
        "colab_type": "code",
        "colab": {}
      },
      "cell_type": "code",
      "source": [
        "X_test_reduced = np.zeros((TEST_SAMPLES, NN_OUTPUT_HEIGHT, NN_OUTPUT_WIDTH, NN_OUTPUT_CHANNELS), dtype=np.float32)\n",
        "\n",
        "for i in range(TEST_SAMPLES):\n",
        "  X_test_reduced[i, :, :, :] = nn_model.predict(X_test[i:i+1, :, :, :])\n",
        "\n",
        "# Cleanup memory\n",
        "del X_test\n",
        "  \n",
        "X_test = np.reshape(X_test_reduced, (TEST_SAMPLES, 7 * 7 * 2048))"
      ],
      "execution_count": 0,
      "outputs": []
    },
    {
      "metadata": {
        "id": "atAzQEWwSicp",
        "colab_type": "text"
      },
      "cell_type": "markdown",
      "source": [
        "**Construct Neural Network model**"
      ]
    },
    {
      "metadata": {
        "id": "YRXCh4xvkd64",
        "colab_type": "code",
        "colab": {}
      },
      "cell_type": "code",
      "source": [
        "model = Sequential()\n",
        "model.add(Dense(512, activation='relu', input_dim=7*7*2048))\n",
        "model.add(Dropout(0.5))\n",
        "model.add(Dense(10, activation='softmax'))\n",
        "model.compile(optimizer='adam',\n",
        "              loss='categorical_crossentropy',\n",
        "              metrics=['acc'])"
      ],
      "execution_count": 0,
      "outputs": []
    },
    {
      "metadata": {
        "id": "XIopw0WySmbc",
        "colab_type": "text"
      },
      "cell_type": "markdown",
      "source": [
        "**Train the model**"
      ]
    },
    {
      "metadata": {
        "id": "wHrHMrLEpF0Y",
        "colab_type": "code",
        "colab": {
          "base_uri": "https://localhost:8080/",
          "height": 941
        },
        "outputId": "fb7d8a31-b27f-4fcf-a506-f0c03eb4779a"
      },
      "cell_type": "code",
      "source": [
        "history = model.fit(\n",
        "  X_train, \n",
        "  Y_train, \n",
        "  epochs=25,\n",
        "  batch_size=BATCH_SIZE,\n",
        "  shuffle=True,\n",
        "  validation_split=0.1\n",
        ")"
      ],
      "execution_count": 12,
      "outputs": [
        {
          "output_type": "stream",
          "text": [
            "Train on 2961 samples, validate on 330 samples\n",
            "Epoch 1/25\n",
            "2961/2961 [==============================] - 9s 3ms/step - loss: 4.6755 - acc: 0.6842 - val_loss: 2.9895 - val_acc: 0.7970\n",
            "Epoch 2/25\n",
            "2961/2961 [==============================] - 7s 2ms/step - loss: 2.9430 - acc: 0.8099 - val_loss: 2.3923 - val_acc: 0.8485\n",
            "Epoch 3/25\n",
            "2961/2961 [==============================] - 7s 2ms/step - loss: 2.3064 - acc: 0.8494 - val_loss: 1.4046 - val_acc: 0.9030\n",
            "Epoch 4/25\n",
            "2961/2961 [==============================] - 7s 2ms/step - loss: 1.0440 - acc: 0.9314 - val_loss: 0.7336 - val_acc: 0.9515\n",
            "Epoch 5/25\n",
            "2961/2961 [==============================] - 7s 2ms/step - loss: 1.1029 - acc: 0.9267 - val_loss: 1.0730 - val_acc: 0.9303\n",
            "Epoch 6/25\n",
            "2961/2961 [==============================] - 7s 2ms/step - loss: 1.2492 - acc: 0.9176 - val_loss: 1.4942 - val_acc: 0.9000\n",
            "Epoch 7/25\n",
            "2961/2961 [==============================] - 7s 2ms/step - loss: 0.9780 - acc: 0.9362 - val_loss: 0.7586 - val_acc: 0.9485\n",
            "Epoch 8/25\n",
            "2961/2961 [==============================] - 7s 2ms/step - loss: 0.9186 - acc: 0.9412 - val_loss: 0.6838 - val_acc: 0.9576\n",
            "Epoch 9/25\n",
            "2961/2961 [==============================] - 7s 2ms/step - loss: 1.0863 - acc: 0.9301 - val_loss: 1.4867 - val_acc: 0.9030\n",
            "Epoch 10/25\n",
            "2961/2961 [==============================] - 7s 2ms/step - loss: 0.8875 - acc: 0.9416 - val_loss: 0.7177 - val_acc: 0.9545\n",
            "Epoch 11/25\n",
            "2961/2961 [==============================] - 7s 2ms/step - loss: 0.6294 - acc: 0.9595 - val_loss: 0.5373 - val_acc: 0.9667\n",
            "Epoch 12/25\n",
            "2961/2961 [==============================] - 7s 2ms/step - loss: 0.6472 - acc: 0.9585 - val_loss: 0.5730 - val_acc: 0.9606\n",
            "Epoch 13/25\n",
            "2961/2961 [==============================] - 7s 2ms/step - loss: 0.9953 - acc: 0.9362 - val_loss: 0.6355 - val_acc: 0.9606\n",
            "Epoch 14/25\n",
            "2961/2961 [==============================] - 7s 2ms/step - loss: 0.9661 - acc: 0.9379 - val_loss: 0.6838 - val_acc: 0.9576\n",
            "Epoch 15/25\n",
            "2961/2961 [==============================] - 7s 2ms/step - loss: 0.9911 - acc: 0.9365 - val_loss: 0.5861 - val_acc: 0.9636\n",
            "Epoch 16/25\n",
            "2961/2961 [==============================] - 7s 2ms/step - loss: 0.6305 - acc: 0.9595 - val_loss: 0.4428 - val_acc: 0.9697\n",
            "Epoch 17/25\n",
            "2961/2961 [==============================] - 7s 2ms/step - loss: 0.7539 - acc: 0.9510 - val_loss: 0.5557 - val_acc: 0.9636\n",
            "Epoch 18/25\n",
            "2961/2961 [==============================] - 7s 2ms/step - loss: 0.8479 - acc: 0.9453 - val_loss: 0.9769 - val_acc: 0.9394\n",
            "Epoch 19/25\n",
            "2961/2961 [==============================] - 7s 2ms/step - loss: 0.8429 - acc: 0.9446 - val_loss: 1.0707 - val_acc: 0.9303\n",
            "Epoch 20/25\n",
            "2961/2961 [==============================] - 7s 2ms/step - loss: 0.7987 - acc: 0.9490 - val_loss: 0.4396 - val_acc: 0.9727\n",
            "Epoch 21/25\n",
            "2961/2961 [==============================] - 7s 2ms/step - loss: 0.6249 - acc: 0.9598 - val_loss: 1.0018 - val_acc: 0.9364\n",
            "Epoch 22/25\n",
            "2961/2961 [==============================] - 7s 2ms/step - loss: 0.7794 - acc: 0.9510 - val_loss: 0.7930 - val_acc: 0.9485\n",
            "Epoch 23/25\n",
            "2961/2961 [==============================] - 7s 2ms/step - loss: 0.7268 - acc: 0.9534 - val_loss: 0.3446 - val_acc: 0.9758\n",
            "Epoch 24/25\n",
            "2961/2961 [==============================] - 7s 2ms/step - loss: 0.9676 - acc: 0.9389 - val_loss: 0.7023 - val_acc: 0.9545\n",
            "Epoch 25/25\n",
            "2961/2961 [==============================] - 7s 2ms/step - loss: 1.7050 - acc: 0.8926 - val_loss: 2.0559 - val_acc: 0.8697\n"
          ],
          "name": "stdout"
        }
      ]
    },
    {
      "metadata": {
        "id": "klu1qVAzIAUG",
        "colab_type": "code",
        "colab": {}
      },
      "cell_type": "code",
      "source": [
        "# Predict values\n",
        "Y_pred = model.predict(X_test)"
      ],
      "execution_count": 0,
      "outputs": []
    },
    {
      "metadata": {
        "id": "XScAjr_YD5MM",
        "colab_type": "code",
        "colab": {}
      },
      "cell_type": "code",
      "source": [
        "Y_pred_labels = [x.argmax() for x in Y_pred]\n",
        "Y_test_labels = [x.argmax() for x in Y_test]"
      ],
      "execution_count": 0,
      "outputs": []
    },
    {
      "metadata": {
        "id": "QWt30-u6Kt1t",
        "colab_type": "code",
        "colab": {
          "base_uri": "https://localhost:8080/",
          "height": 89
        },
        "outputId": "36842ab7-a95b-4c59-86ef-a708158b3da0"
      },
      "cell_type": "code",
      "source": [
        "print(precision_recall_fscore_support(Y_test_labels, Y_pred_labels))"
      ],
      "execution_count": 18,
      "outputs": [
        {
          "output_type": "stream",
          "text": [
            "(array([0.98717949, 0.97530864, 1.        , 0.97333333, 0.9625    ,\n",
            "       1.        , 0.47852761, 0.70338983, 1.        , 1.        ]), array([0.98717949, 0.94047619, 0.43209877, 0.81111111, 0.98717949,\n",
            "       0.9047619 , 1.        , 0.98809524, 0.43209877, 0.96153846]), array([0.98717949, 0.95757576, 0.60344828, 0.88484848, 0.97468354,\n",
            "       0.95      , 0.6473029 , 0.82178218, 0.60344828, 0.98039216]), array([78, 84, 81, 90, 78, 84, 78, 84, 81, 78]))\n"
          ],
          "name": "stdout"
        }
      ]
    }
  ]
}